{
 "cells": [
  {
   "cell_type": "markdown",
   "id": "7d679c9155d39164",
   "metadata": {
    "collapsed": false,
    "jupyter": {
     "outputs_hidden": false
    }
   },
   "source": [
    "# 导入数据"
   ]
  },
  {
   "cell_type": "code",
   "execution_count": 1,
   "id": "16a38cb8c65c4e7f",
   "metadata": {
    "ExecuteTime": {
     "end_time": "2023-12-09T09:07:00.441390100Z",
     "start_time": "2023-12-09T09:06:59.968044800Z"
    },
    "collapsed": false,
    "jupyter": {
     "outputs_hidden": false
    }
   },
   "outputs": [
    {
     "data": {
      "text/plain": [
       "(    StatsDate  OneYearBondYield\n",
       " 0  2015-01-04            3.2566\n",
       " 1  2015-01-05            3.2568\n",
       " 2  2015-01-06            3.2642\n",
       " 3  2015-01-07            3.2088\n",
       " 4  2015-01-08            3.1959,\n",
       "    交易所标识_Exchflg 市场标识_Mktflg     日期_Date  市场溢酬因子__流通市值加权_Rmrf_tmv  \\\n",
       " 0              2           A  2013-01-04                  -0.0055   \n",
       " 1              2           A  2013-01-07                   0.0082   \n",
       " 2              2           A  2013-01-08                   0.0107   \n",
       " 3              2           A  2013-01-09                   0.0039   \n",
       " 4              2           A  2013-01-10                   0.0048   \n",
       " \n",
       "    市值因子__流通市值加权_Smb_tmv  账面市值比因子__流通市值加权_Hml_tmv  市场溢酬因子__总市值加权_Rmrf_mc  \\\n",
       " 0               -0.0001                   0.0096                -0.0046   \n",
       " 1                0.0090                  -0.0025                 0.0089   \n",
       " 2                0.0072                  -0.0076                 0.0115   \n",
       " 3               -0.0016                  -0.0066                 0.0032   \n",
       " 4                0.0022                   0.0028                 0.0050   \n",
       " \n",
       "    市值因子__总市值加权_Smb_mc  账面市值比因子__总市值加权_Hml_mc  Unnamed: 9  \n",
       " 0              0.0026                 0.0109         NaN  \n",
       " 1              0.0116                -0.0005         NaN  \n",
       " 2              0.0050                -0.0112         NaN  \n",
       " 3             -0.0016                -0.0083         NaN  \n",
       " 4              0.0023                 0.0012         NaN  ,\n",
       "        code        date   open   high    low  close    change      volume  \\\n",
       " 0  sz002679  2012-06-05  13.81  13.99  12.59  12.82  0.068333  24708482.0   \n",
       " 1  sz002679  2012-06-06  12.50  12.60  11.70  11.84 -0.076443  13449756.0   \n",
       " 2  sz002679  2012-06-07  11.89  12.46  11.63  12.24  0.033784  11250171.0   \n",
       " 3  sz002679  2012-06-08  12.12  12.25  11.51  11.58 -0.053922   7782998.0   \n",
       " 4  sz002679  2012-06-11  11.58  11.75  11.25  11.39 -0.016408   5620197.0   \n",
       " \n",
       "           money  traded_market_value  market_value  turnover  adjust_price  \\\n",
       " 0  3.268376e+08          444597600.0  1.777878e+09  0.712471     12.820000   \n",
       " 1  1.629767e+08          410611200.0  1.641971e+09  0.387825     11.840001   \n",
       " 2  1.354544e+08          424483200.0  1.697443e+09  0.324399     12.240003   \n",
       " 3  9.237994e+07          401594400.0  1.605914e+09  0.224423     11.579998   \n",
       " 4  6.405012e+07          395005200.0  1.579565e+09  0.162059     11.389993   \n",
       " \n",
       "   report_date report_type     PE_TTM     PS_TTM     PC_TTM        PB  \\\n",
       " 0  2012-08-15  2012-06-30  37.258454  12.848264 -18.409351  3.010693   \n",
       " 1  2012-08-15  2012-06-30  34.410304  11.866104 -17.002084  2.780546   \n",
       " 2  2012-08-15  2012-06-30  35.572815  12.266986 -17.576479  2.874484   \n",
       " 3  2012-08-15  2012-06-30  33.654673  11.605530 -16.628727  2.719487   \n",
       " 4  2012-08-15  2012-06-30  33.102480  11.415112 -16.355890  2.674867   \n",
       " \n",
       "    adjust_price_f  \n",
       " 0        7.136813  \n",
       " 1        6.591254  \n",
       " 2        6.813933  \n",
       " 3        6.446512  \n",
       " 4        6.340738  )"
      ]
     },
     "execution_count": 1,
     "metadata": {},
     "output_type": "execute_result"
    }
   ],
   "source": [
    "import pandas as pd\n",
    "import warnings\n",
    "warnings.filterwarnings('ignore')\n",
    "\n",
    "# Load\n",
    "bond_yield_df = pd.read_csv('data/FE_BONDYIELDSD.csv')\n",
    "three_factor_df = pd.read_csv('data/RESSET_THRFACDAT_DAILY_1.csv')\n",
    "stock_data_df = pd.read_csv('data/stock/sz002679.csv')\n",
    "\n",
    "(bond_yield_df.head(), three_factor_df.head(), stock_data_df.head())"
   ]
  },
  {
   "cell_type": "markdown",
   "id": "8a61a51ac9b2a607",
   "metadata": {
    "collapsed": false,
    "jupyter": {
     "outputs_hidden": false
    }
   },
   "source": [
    "## 中国国债收益率（bond_yield_df）\n",
    "`StatsDate` 日期\n",
    "`OneYearBondYield` 一年期国债的收益率\n",
    "    \n",
    "## 三因子历史数据（three_factor_df）\n",
    "\n",
    "`市场溢酬因子__流通市值加权_Rmrf_tmv`\n",
    "`市值因子__流通市值加权_Smb_tmv`\n",
    "`账面市值比因子__流通市值加权_Hml_tmv`\n",
    "\n",
    "## 股票历史数据（stock_data_df）\n",
    "`close` 收盘价"
   ]
  },
  {
   "cell_type": "markdown",
   "id": "74c46926994920fc",
   "metadata": {
    "collapsed": false,
    "jupyter": {
     "outputs_hidden": false
    }
   },
   "source": [
    "# 预处理\n",
    "选取2023年之前的数据作训练集\n",
    "合并数据"
   ]
  },
  {
   "cell_type": "code",
   "execution_count": 2,
   "id": "3e2b39e2a7473d97",
   "metadata": {
    "ExecuteTime": {
     "end_time": "2023-12-09T09:07:00.465861Z",
     "start_time": "2023-12-09T09:07:00.432626500Z"
    },
    "collapsed": false,
    "jupyter": {
     "outputs_hidden": false
    }
   },
   "outputs": [
    {
     "data": {
      "text/html": [
       "<div>\n",
       "<style scoped>\n",
       "    .dataframe tbody tr th:only-of-type {\n",
       "        vertical-align: middle;\n",
       "    }\n",
       "\n",
       "    .dataframe tbody tr th {\n",
       "        vertical-align: top;\n",
       "    }\n",
       "\n",
       "    .dataframe thead th {\n",
       "        text-align: right;\n",
       "    }\n",
       "</style>\n",
       "<table border=\"1\" class=\"dataframe\">\n",
       "  <thead>\n",
       "    <tr style=\"text-align: right;\">\n",
       "      <th></th>\n",
       "      <th>Date</th>\n",
       "      <th>Stock_Close</th>\n",
       "      <th>Market_Risk_Premium</th>\n",
       "      <th>Size_Premium</th>\n",
       "      <th>Value_Premium</th>\n",
       "      <th>One_Year_Bond_Yield</th>\n",
       "    </tr>\n",
       "  </thead>\n",
       "  <tbody>\n",
       "    <tr>\n",
       "      <th>0</th>\n",
       "      <td>2015-01-05</td>\n",
       "      <td>19.52</td>\n",
       "      <td>0.0182</td>\n",
       "      <td>-0.0224</td>\n",
       "      <td>0.0066</td>\n",
       "      <td>3.2568</td>\n",
       "    </tr>\n",
       "    <tr>\n",
       "      <th>1</th>\n",
       "      <td>2015-01-05</td>\n",
       "      <td>19.52</td>\n",
       "      <td>0.0183</td>\n",
       "      <td>-0.0229</td>\n",
       "      <td>0.0072</td>\n",
       "      <td>3.2568</td>\n",
       "    </tr>\n",
       "    <tr>\n",
       "      <th>2</th>\n",
       "      <td>2015-01-05</td>\n",
       "      <td>19.52</td>\n",
       "      <td>0.0217</td>\n",
       "      <td>-0.0183</td>\n",
       "      <td>-0.0039</td>\n",
       "      <td>3.2568</td>\n",
       "    </tr>\n",
       "    <tr>\n",
       "      <th>3</th>\n",
       "      <td>2015-01-06</td>\n",
       "      <td>20.96</td>\n",
       "      <td>0.0181</td>\n",
       "      <td>0.0050</td>\n",
       "      <td>-0.0251</td>\n",
       "      <td>3.2642</td>\n",
       "    </tr>\n",
       "    <tr>\n",
       "      <th>4</th>\n",
       "      <td>2015-01-06</td>\n",
       "      <td>20.96</td>\n",
       "      <td>0.0181</td>\n",
       "      <td>0.0052</td>\n",
       "      <td>-0.0253</td>\n",
       "      <td>3.2642</td>\n",
       "    </tr>\n",
       "  </tbody>\n",
       "</table>\n",
       "</div>"
      ],
      "text/plain": [
       "        Date  Stock_Close  Market_Risk_Premium  Size_Premium  Value_Premium  \\\n",
       "0 2015-01-05        19.52               0.0182       -0.0224         0.0066   \n",
       "1 2015-01-05        19.52               0.0183       -0.0229         0.0072   \n",
       "2 2015-01-05        19.52               0.0217       -0.0183        -0.0039   \n",
       "3 2015-01-06        20.96               0.0181        0.0050        -0.0251   \n",
       "4 2015-01-06        20.96               0.0181        0.0052        -0.0253   \n",
       "\n",
       "   One_Year_Bond_Yield  \n",
       "0               3.2568  \n",
       "1               3.2568  \n",
       "2               3.2568  \n",
       "3               3.2642  \n",
       "4               3.2642  "
      ]
     },
     "execution_count": 2,
     "metadata": {},
     "output_type": "execute_result"
    }
   ],
   "source": [
    "bond_yield_df['StatsDate'] = pd.to_datetime(bond_yield_df['StatsDate'])\n",
    "three_factor_df['日期_Date'] = pd.to_datetime(three_factor_df['日期_Date'])\n",
    "stock_data_df['date'] = pd.to_datetime(stock_data_df['date'])\n",
    "\n",
    "three_factor_df.drop(columns=['交易所标识_Exchflg', '市场标识_Mktflg', 'Unnamed: 9'], inplace=True)\n",
    "\n",
    "\n",
    "bond_yield_pre_2023 = bond_yield_df[bond_yield_df['StatsDate'].dt.year < 2023]\n",
    "three_factor_pre_2023 = three_factor_df[three_factor_df['日期_Date'].dt.year < 2023]\n",
    "stock_data_pre_2023 = stock_data_df[stock_data_df['date'].dt.year < 2023]\n",
    "\n",
    "\n",
    "merged_data_pre_2023 = stock_data_pre_2023.merge(three_factor_pre_2023, left_on='date', right_on='日期_Date', how='inner')\n",
    "merged_data_pre_2023 = merged_data_pre_2023.merge(bond_yield_pre_2023, left_on='date', right_on='StatsDate', how='inner')\n",
    "\n",
    "\n",
    "model_data_pre_2023 = merged_data_pre_2023[['date', 'close', '市场溢酬因子__流通市值加权_Rmrf_tmv', '市值因子__流通市值加权_Smb_tmv', '账面市值比因子__流通市值加权_Hml_tmv', 'OneYearBondYield']]\n",
    "\n",
    "# Rename\n",
    "model_data_pre_2023.columns = ['Date', 'Stock_Close', 'Market_Risk_Premium', 'Size_Premium', 'Value_Premium', 'One_Year_Bond_Yield']\n",
    "\n",
    "model_data_pre_2023.head()"
   ]
  },
  {
   "cell_type": "code",
   "execution_count": 3,
   "id": "2d7aed59174ec54f",
   "metadata": {
    "ExecuteTime": {
     "end_time": "2023-12-09T09:07:00.521028300Z",
     "start_time": "2023-12-09T09:07:00.465861Z"
    },
    "collapsed": false,
    "jupyter": {
     "outputs_hidden": false
    }
   },
   "outputs": [
    {
     "data": {
      "text/html": [
       "<div>\n",
       "<style scoped>\n",
       "    .dataframe tbody tr th:only-of-type {\n",
       "        vertical-align: middle;\n",
       "    }\n",
       "\n",
       "    .dataframe tbody tr th {\n",
       "        vertical-align: top;\n",
       "    }\n",
       "\n",
       "    .dataframe thead th {\n",
       "        text-align: right;\n",
       "    }\n",
       "</style>\n",
       "<table border=\"1\" class=\"dataframe\">\n",
       "  <thead>\n",
       "    <tr style=\"text-align: right;\">\n",
       "      <th></th>\n",
       "      <th>Date</th>\n",
       "      <th>Stock_Close</th>\n",
       "      <th>Market_Risk_Premium</th>\n",
       "      <th>Size_Premium</th>\n",
       "      <th>Value_Premium</th>\n",
       "      <th>One_Year_Bond_Yield</th>\n",
       "    </tr>\n",
       "  </thead>\n",
       "  <tbody>\n",
       "    <tr>\n",
       "      <th>0</th>\n",
       "      <td>2015-01-05</td>\n",
       "      <td>19.52</td>\n",
       "      <td>0.0182</td>\n",
       "      <td>-0.0224</td>\n",
       "      <td>0.0066</td>\n",
       "      <td>3.2568</td>\n",
       "    </tr>\n",
       "    <tr>\n",
       "      <th>3</th>\n",
       "      <td>2015-01-06</td>\n",
       "      <td>20.96</td>\n",
       "      <td>0.0181</td>\n",
       "      <td>0.0050</td>\n",
       "      <td>-0.0251</td>\n",
       "      <td>3.2642</td>\n",
       "    </tr>\n",
       "    <tr>\n",
       "      <th>6</th>\n",
       "      <td>2015-01-07</td>\n",
       "      <td>20.65</td>\n",
       "      <td>-0.0029</td>\n",
       "      <td>0.0016</td>\n",
       "      <td>0.0026</td>\n",
       "      <td>3.2088</td>\n",
       "    </tr>\n",
       "    <tr>\n",
       "      <th>9</th>\n",
       "      <td>2015-01-08</td>\n",
       "      <td>20.30</td>\n",
       "      <td>-0.0045</td>\n",
       "      <td>0.0059</td>\n",
       "      <td>-0.0118</td>\n",
       "      <td>3.1959</td>\n",
       "    </tr>\n",
       "    <tr>\n",
       "      <th>12</th>\n",
       "      <td>2015-01-09</td>\n",
       "      <td>20.18</td>\n",
       "      <td>-0.0062</td>\n",
       "      <td>0.0000</td>\n",
       "      <td>-0.0046</td>\n",
       "      <td>3.1944</td>\n",
       "    </tr>\n",
       "  </tbody>\n",
       "</table>\n",
       "</div>"
      ],
      "text/plain": [
       "         Date  Stock_Close  Market_Risk_Premium  Size_Premium  Value_Premium  \\\n",
       "0  2015-01-05        19.52               0.0182       -0.0224         0.0066   \n",
       "3  2015-01-06        20.96               0.0181        0.0050        -0.0251   \n",
       "6  2015-01-07        20.65              -0.0029        0.0016         0.0026   \n",
       "9  2015-01-08        20.30              -0.0045        0.0059        -0.0118   \n",
       "12 2015-01-09        20.18              -0.0062        0.0000        -0.0046   \n",
       "\n",
       "    One_Year_Bond_Yield  \n",
       "0                3.2568  \n",
       "3                3.2642  \n",
       "6                3.2088  \n",
       "9                3.1959  \n",
       "12               3.1944  "
      ]
     },
     "execution_count": 3,
     "metadata": {},
     "output_type": "execute_result"
    }
   ],
   "source": [
    "# Remove duplicates\n",
    "model_data_pre_2023.drop_duplicates(subset=['Date'], inplace=True)\n",
    "model_data_pre_2023.head()"
   ]
  },
  {
   "cell_type": "code",
   "execution_count": 4,
   "id": "9a95749cd9af97b3",
   "metadata": {
    "ExecuteTime": {
     "end_time": "2023-12-09T09:07:01.176534400Z",
     "start_time": "2023-12-09T09:07:00.477215600Z"
    },
    "collapsed": false,
    "jupyter": {
     "outputs_hidden": false
    }
   },
   "outputs": [],
   "source": [
    "from sklearn.model_selection import train_test_split\n",
    "from sklearn.linear_model import LinearRegression\n",
    "from sklearn.metrics import r2_score, mean_squared_error"
   ]
  },
  {
   "cell_type": "markdown",
   "id": "3041dfbeaa673fe5",
   "metadata": {
    "collapsed": false,
    "jupyter": {
     "outputs_hidden": false
    }
   },
   "source": [
    "计算超额收益率,无风险利率用国债收益率\n",
    "$$ \\text{Daily return} = \\frac{\\text{Closing price today} - \\text{Closing price yesterday}}{\\text{Closing price yesterday}} $$\n",
    "转化成超额收益率\n",
    "$$ \\text{Excess return} = \\text{Daily return} - \\frac{\\text{One year bond yield}}{365} $$\n"
   ]
  },
  {
   "cell_type": "code",
   "execution_count": 5,
   "id": "a62a8983c911e3e4",
   "metadata": {
    "ExecuteTime": {
     "end_time": "2023-12-09T09:07:01.192765200Z",
     "start_time": "2023-12-09T09:07:01.179533500Z"
    },
    "collapsed": false,
    "jupyter": {
     "outputs_hidden": false
    }
   },
   "outputs": [
    {
     "data": {
      "text/html": [
       "<div>\n",
       "<style scoped>\n",
       "    .dataframe tbody tr th:only-of-type {\n",
       "        vertical-align: middle;\n",
       "    }\n",
       "\n",
       "    .dataframe tbody tr th {\n",
       "        vertical-align: top;\n",
       "    }\n",
       "\n",
       "    .dataframe thead th {\n",
       "        text-align: right;\n",
       "    }\n",
       "</style>\n",
       "<table border=\"1\" class=\"dataframe\">\n",
       "  <thead>\n",
       "    <tr style=\"text-align: right;\">\n",
       "      <th></th>\n",
       "      <th>Date</th>\n",
       "      <th>Stock_Close</th>\n",
       "      <th>Market_Risk_Premium</th>\n",
       "      <th>Size_Premium</th>\n",
       "      <th>Value_Premium</th>\n",
       "      <th>One_Year_Bond_Yield</th>\n",
       "      <th>Stock_Return</th>\n",
       "      <th>Daily_Bond_Yield</th>\n",
       "      <th>Excess_Return</th>\n",
       "    </tr>\n",
       "  </thead>\n",
       "  <tbody>\n",
       "    <tr>\n",
       "      <th>3</th>\n",
       "      <td>2015-01-06</td>\n",
       "      <td>20.96</td>\n",
       "      <td>0.0181</td>\n",
       "      <td>0.0050</td>\n",
       "      <td>-0.0251</td>\n",
       "      <td>3.2642</td>\n",
       "      <td>0.073770</td>\n",
       "      <td>0.008943</td>\n",
       "      <td>0.064827</td>\n",
       "    </tr>\n",
       "    <tr>\n",
       "      <th>6</th>\n",
       "      <td>2015-01-07</td>\n",
       "      <td>20.65</td>\n",
       "      <td>-0.0029</td>\n",
       "      <td>0.0016</td>\n",
       "      <td>0.0026</td>\n",
       "      <td>3.2088</td>\n",
       "      <td>-0.014790</td>\n",
       "      <td>0.008791</td>\n",
       "      <td>-0.023581</td>\n",
       "    </tr>\n",
       "    <tr>\n",
       "      <th>9</th>\n",
       "      <td>2015-01-08</td>\n",
       "      <td>20.30</td>\n",
       "      <td>-0.0045</td>\n",
       "      <td>0.0059</td>\n",
       "      <td>-0.0118</td>\n",
       "      <td>3.1959</td>\n",
       "      <td>-0.016949</td>\n",
       "      <td>0.008756</td>\n",
       "      <td>-0.025705</td>\n",
       "    </tr>\n",
       "    <tr>\n",
       "      <th>12</th>\n",
       "      <td>2015-01-09</td>\n",
       "      <td>20.18</td>\n",
       "      <td>-0.0062</td>\n",
       "      <td>0.0000</td>\n",
       "      <td>-0.0046</td>\n",
       "      <td>3.1944</td>\n",
       "      <td>-0.005911</td>\n",
       "      <td>0.008752</td>\n",
       "      <td>-0.014663</td>\n",
       "    </tr>\n",
       "    <tr>\n",
       "      <th>15</th>\n",
       "      <td>2015-01-12</td>\n",
       "      <td>20.64</td>\n",
       "      <td>-0.0072</td>\n",
       "      <td>-0.0077</td>\n",
       "      <td>-0.0179</td>\n",
       "      <td>3.1953</td>\n",
       "      <td>0.022795</td>\n",
       "      <td>0.008754</td>\n",
       "      <td>0.014041</td>\n",
       "    </tr>\n",
       "  </tbody>\n",
       "</table>\n",
       "</div>"
      ],
      "text/plain": [
       "         Date  Stock_Close  Market_Risk_Premium  Size_Premium  Value_Premium  \\\n",
       "3  2015-01-06        20.96               0.0181        0.0050        -0.0251   \n",
       "6  2015-01-07        20.65              -0.0029        0.0016         0.0026   \n",
       "9  2015-01-08        20.30              -0.0045        0.0059        -0.0118   \n",
       "12 2015-01-09        20.18              -0.0062        0.0000        -0.0046   \n",
       "15 2015-01-12        20.64              -0.0072       -0.0077        -0.0179   \n",
       "\n",
       "    One_Year_Bond_Yield  Stock_Return  Daily_Bond_Yield  Excess_Return  \n",
       "3                3.2642      0.073770          0.008943       0.064827  \n",
       "6                3.2088     -0.014790          0.008791      -0.023581  \n",
       "9                3.1959     -0.016949          0.008756      -0.025705  \n",
       "12               3.1944     -0.005911          0.008752      -0.014663  \n",
       "15               3.1953      0.022795          0.008754       0.014041  "
      ]
     },
     "execution_count": 5,
     "metadata": {},
     "output_type": "execute_result"
    }
   ],
   "source": [
    "model_data_pre_2023['Stock_Return'] = model_data_pre_2023['Stock_Close'].pct_change()\n",
    "\n",
    "model_data_pre_2023['Daily_Bond_Yield'] = model_data_pre_2023['One_Year_Bond_Yield'] / 365\n",
    "\n",
    "model_data_pre_2023['Excess_Return'] = model_data_pre_2023['Stock_Return'] - model_data_pre_2023['Daily_Bond_Yield']\n",
    "\n",
    "model_data_pre_2023 = model_data_pre_2023.dropna()\n",
    "\n",
    "model_data_pre_2023.head()"
   ]
  },
  {
   "cell_type": "markdown",
   "id": "f025394e53fcad2b",
   "metadata": {
    "collapsed": false,
    "jupyter": {
     "outputs_hidden": false
    }
   },
   "source": [
    "# OLS拟合"
   ]
  },
  {
   "cell_type": "code",
   "execution_count": 6,
   "id": "96b44f963af122c",
   "metadata": {
    "ExecuteTime": {
     "end_time": "2023-12-09T09:07:01.219867100Z",
     "start_time": "2023-12-09T09:07:01.190760Z"
    },
    "collapsed": false,
    "jupyter": {
     "outputs_hidden": false
    }
   },
   "outputs": [
    {
     "data": {
      "text/plain": [
       "(0.2655736358252204, 0.0009444093900193483)"
      ]
     },
     "execution_count": 6,
     "metadata": {},
     "output_type": "execute_result"
    }
   ],
   "source": [
    "X = model_data_pre_2023[['Market_Risk_Premium', 'Size_Premium', 'Value_Premium']]\n",
    "y = model_data_pre_2023['Excess_Return']\n",
    "\n",
    "X_train, X_test, y_train, y_test = train_test_split(X, y, test_size=0.2, random_state=0)\n",
    "\n",
    "lr_model = LinearRegression()\n",
    "\n",
    "lr_model.fit(X_train, y_train)\n",
    "\n",
    "y_pred = lr_model.predict(X_test)\n",
    "\n",
    "r2 = r2_score(y_test, y_pred)\n",
    "mse = mean_squared_error(y_test, y_pred)\n",
    "\n",
    "(r2, mse)"
   ]
  },
  {
   "cell_type": "markdown",
   "id": "6b5d4f16ae25ae11",
   "metadata": {
    "collapsed": false,
    "jupyter": {
     "outputs_hidden": false
    }
   },
   "source": [
    "R-squared: R2=0.1066\n",
    "Mean Squared Error: MSE = 0.000406"
   ]
  },
  {
   "cell_type": "code",
   "execution_count": 7,
   "id": "30b895300d9f4183",
   "metadata": {
    "ExecuteTime": {
     "end_time": "2023-12-09T09:07:01.219867100Z",
     "start_time": "2023-12-09T09:07:01.199680400Z"
    },
    "collapsed": false,
    "jupyter": {
     "outputs_hidden": false
    }
   },
   "outputs": [
    {
     "data": {
      "text/plain": [
       "{'Market_Risk_Premium_Beta': 0.9517406160528895,\n",
       " 'Size_Premium_Beta': 1.052366565651227,\n",
       " 'Value_Premium_Beta': 0.4337214506762779}"
      ]
     },
     "execution_count": 7,
     "metadata": {},
     "output_type": "execute_result"
    }
   ],
   "source": [
    "beta_coefficients = lr_model.coef_\n",
    "beta_coefficients_dict = {\n",
    "    'Market_Risk_Premium_Beta': beta_coefficients[0],\n",
    "    'Size_Premium_Beta': beta_coefficients[1],\n",
    "    'Value_Premium_Beta': beta_coefficients[2]\n",
    "}\n",
    "\n",
    "beta_coefficients_dict"
   ]
  },
  {
   "cell_type": "markdown",
   "id": "98e5c4e476d6c0f0",
   "metadata": {
    "collapsed": false,
    "jupyter": {
     "outputs_hidden": false
    }
   },
   "source": [
    "市场风险溢酬因子 Beta（Market_Risk_Premium_Beta）: 0.3712\n",
    "规模溢酬因子 Beta（Size_Premium_Beta）: 0.3655\n",
    "价值溢酬因子 Beta（Value_Premium_Beta）: 0.1076"
   ]
  },
  {
   "cell_type": "code",
   "execution_count": 8,
   "id": "28890eb46870d51",
   "metadata": {
    "ExecuteTime": {
     "end_time": "2023-12-09T09:07:01.325463200Z",
     "start_time": "2023-12-09T09:07:01.206394400Z"
    },
    "collapsed": false,
    "jupyter": {
     "outputs_hidden": false
    }
   },
   "outputs": [],
   "source": [
    "from statsmodels.tsa.arima.model import ARIMA\n",
    "import numpy as np\n",
    "\n",
    "time_series_data = model_data_pre_2023.drop_duplicates(subset='Date', keep='last').set_index('Date')\n",
    "\n",
    "time_series_data = time_series_data.asfreq('D').fillna(method='ffill')"
   ]
  },
  {
   "cell_type": "markdown",
   "id": "cbc2ada0ed17ef6a",
   "metadata": {
    "collapsed": false,
    "jupyter": {
     "outputs_hidden": false
    }
   },
   "source": [
    "# 检验时间序列数据的平稳性，确定最佳的ARIMA模型"
   ]
  },
  {
   "cell_type": "code",
   "execution_count": 9,
   "id": "ca62c4f7154b42c5",
   "metadata": {
    "ExecuteTime": {
     "end_time": "2023-12-09T09:07:08.420867500Z",
     "start_time": "2023-12-09T09:07:01.328463900Z"
    },
    "collapsed": false,
    "jupyter": {
     "outputs_hidden": false
    }
   },
   "outputs": [
    {
     "name": "stdout",
     "output_type": "stream",
     "text": [
      "Augmented Dickey-Fuller Test: Market Risk Premium\n",
      "ADF test statistic     -9.604480e+00\n",
      "p-value                 1.882157e-16\n",
      "# lags used             2.800000e+01\n",
      "# observations          2.887000e+03\n",
      "critical value (1%)    -3.432617e+00\n",
      "critical value (5%)    -2.862542e+00\n",
      "critical value (10%)   -2.567303e+00\n",
      "Strong evidence against the null hypothesis\n",
      "Reject the null hypothesis\n",
      "Data has no unit root and is stationary\n",
      "\n",
      "\n",
      "Augmented Dickey-Fuller Test: Size Premium\n",
      "ADF test statistic     -1.793133e+01\n",
      "p-value                 2.882489e-30\n",
      "# lags used             6.000000e+00\n",
      "# observations          2.909000e+03\n",
      "critical value (1%)    -3.432600e+00\n",
      "critical value (5%)    -2.862534e+00\n",
      "critical value (10%)   -2.567299e+00\n",
      "Strong evidence against the null hypothesis\n",
      "Reject the null hypothesis\n",
      "Data has no unit root and is stationary\n",
      "\n",
      "\n",
      "Augmented Dickey-Fuller Test: Value Premium\n",
      "ADF test statistic     -1.582695e+01\n",
      "p-value                 1.004733e-28\n",
      "# lags used             8.000000e+00\n",
      "# observations          2.907000e+03\n",
      "critical value (1%)    -3.432601e+00\n",
      "critical value (5%)    -2.862535e+00\n",
      "critical value (10%)   -2.567300e+00\n",
      "Strong evidence against the null hypothesis\n",
      "Reject the null hypothesis\n",
      "Data has no unit root and is stationary\n",
      "\n",
      "\n",
      "Running auto_arima for Market_Risk_Premium\n",
      "Performing stepwise search to minimize aic\n",
      " ARIMA(2,0,2)(0,0,0)[0]             : AIC=-15514.315, Time=0.47 sec\n",
      " ARIMA(0,0,0)(0,0,0)[0]             : AIC=-15071.953, Time=0.06 sec\n",
      " ARIMA(1,0,0)(0,0,0)[0]             : AIC=-15507.491, Time=0.07 sec\n",
      " ARIMA(0,0,1)(0,0,0)[0]             : AIC=-15421.622, Time=0.16 sec\n",
      " ARIMA(1,0,2)(0,0,0)[0]             : AIC=-15516.271, Time=0.31 sec\n",
      " ARIMA(0,0,2)(0,0,0)[0]             : AIC=-15494.705, Time=0.28 sec\n",
      " ARIMA(1,0,1)(0,0,0)[0]             : AIC=-15518.270, Time=0.09 sec\n",
      " ARIMA(2,0,1)(0,0,0)[0]             : AIC=-15516.267, Time=0.08 sec\n",
      " ARIMA(2,0,0)(0,0,0)[0]             : AIC=-15518.006, Time=0.07 sec\n",
      " ARIMA(1,0,1)(0,0,0)[0] intercept   : AIC=-15516.539, Time=0.26 sec\n",
      "\n",
      "Best model:  ARIMA(1,0,1)(0,0,0)[0]          \n",
      "Total fit time: 1.868 seconds\n",
      "Best ARIMA order for Market_Risk_Premium: (1, 0, 1)\n",
      "\n",
      "\n",
      "Running auto_arima for Size_Premium\n",
      "Performing stepwise search to minimize aic\n",
      " ARIMA(2,0,2)(0,0,0)[0]             : AIC=-21082.007, Time=0.24 sec\n",
      " ARIMA(0,0,0)(0,0,0)[0]             : AIC=-20407.340, Time=0.05 sec\n",
      " ARIMA(1,0,0)(0,0,0)[0]             : AIC=-21038.080, Time=0.04 sec\n",
      " ARIMA(0,0,1)(0,0,0)[0]             : AIC=-20852.767, Time=0.21 sec\n",
      " ARIMA(1,0,2)(0,0,0)[0]             : AIC=-21079.425, Time=0.36 sec\n",
      " ARIMA(2,0,1)(0,0,0)[0]             : AIC=-21084.588, Time=0.15 sec\n",
      " ARIMA(1,0,1)(0,0,0)[0]             : AIC=-21066.666, Time=0.16 sec\n",
      " ARIMA(2,0,0)(0,0,0)[0]             : AIC=-21074.889, Time=0.26 sec\n",
      " ARIMA(3,0,1)(0,0,0)[0]             : AIC=-21081.049, Time=0.18 sec\n",
      " ARIMA(3,0,0)(0,0,0)[0]             : AIC=-21081.795, Time=0.10 sec\n",
      " ARIMA(3,0,2)(0,0,0)[0]             : AIC=-21078.034, Time=0.60 sec\n",
      " ARIMA(2,0,1)(0,0,0)[0] intercept   : AIC=-21082.827, Time=0.37 sec\n",
      "\n",
      "Best model:  ARIMA(2,0,1)(0,0,0)[0]          \n",
      "Total fit time: 2.710 seconds\n",
      "Best ARIMA order for Size_Premium: (2, 0, 1)\n",
      "\n",
      "\n",
      "Running auto_arima for Value_Premium\n",
      "Performing stepwise search to minimize aic\n",
      " ARIMA(2,0,2)(0,0,0)[0]             : AIC=-22022.477, Time=0.22 sec\n",
      " ARIMA(0,0,0)(0,0,0)[0]             : AIC=-21607.359, Time=0.06 sec\n",
      " ARIMA(1,0,0)(0,0,0)[0]             : AIC=-22001.760, Time=0.09 sec\n",
      " ARIMA(0,0,1)(0,0,0)[0]             : AIC=-21905.911, Time=0.06 sec\n",
      " ARIMA(1,0,2)(0,0,0)[0]             : AIC=-22023.538, Time=0.21 sec\n",
      " ARIMA(0,0,2)(0,0,0)[0]             : AIC=-22000.015, Time=0.11 sec\n",
      " ARIMA(1,0,1)(0,0,0)[0]             : AIC=-22025.647, Time=0.13 sec\n",
      " ARIMA(2,0,1)(0,0,0)[0]             : AIC=-22023.672, Time=0.18 sec\n",
      " ARIMA(2,0,0)(0,0,0)[0]             : AIC=-22025.608, Time=0.12 sec\n",
      " ARIMA(1,0,1)(0,0,0)[0] intercept   : AIC=-22023.645, Time=0.29 sec\n",
      "\n",
      "Best model:  ARIMA(1,0,1)(0,0,0)[0]          \n",
      "Total fit time: 1.458 seconds\n",
      "Best ARIMA order for Value_Premium: (1, 0, 1)\n"
     ]
    }
   ],
   "source": [
    "from statsmodels.tsa.stattools import adfuller\n",
    "from pmdarima import auto_arima\n",
    "\n",
    "def adf_test(series, title=''):\n",
    "    print(f'Augmented Dickey-Fuller Test: {title}')\n",
    "    result = adfuller(series.dropna(), autolag='AIC')  # .dropna() handles differenced data\n",
    "    labels = ['ADF test statistic', 'p-value', '# lags used', '# observations']\n",
    "    out = pd.Series(result[0:4], index=labels)\n",
    "\n",
    "    for key, val in result[4].items():\n",
    "        out[f'critical value ({key})'] = val\n",
    "    print(out.to_string())  # .to_string() removes the line \"dtype: float64\"\n",
    "\n",
    "    if result[1] <= 0.05:\n",
    "        print(\"Strong evidence against the null hypothesis\")\n",
    "        print(\"Reject the null hypothesis\")\n",
    "        print(\"Data has no unit root and is stationary\")\n",
    "    else:\n",
    "        print(\"Weak evidence against the null hypothesis\")\n",
    "        print(\"Fail to reject the null hypothesis\")\n",
    "        print(\"Data has a unit root and is non-stationary\")\n",
    "    print(\"\\n\")\n",
    "\n",
    "adf_test(time_series_data['Market_Risk_Premium'], 'Market Risk Premium')\n",
    "adf_test(time_series_data['Size_Premium'], 'Size Premium')\n",
    "adf_test(time_series_data['Value_Premium'], 'Value Premium')\n",
    "\n",
    "auto_arima_results = {}\n",
    "\n",
    "for column in ['Market_Risk_Premium', 'Size_Premium', 'Value_Premium']:\n",
    "    print(f\"Running auto_arima for {column}\")\n",
    "    auto_arima_result = auto_arima(time_series_data[column], seasonal=False, stepwise=True, suppress_warnings=True, error_action=\"ignore\", max_order=None, trace=True)\n",
    "    auto_arima_results[column] = auto_arima_result\n",
    "    print(f\"Best ARIMA order for {column}: {auto_arima_result.order}\")\n",
    "    print(\"\\n\")"
   ]
  },
  {
   "cell_type": "markdown",
   "id": "676ebdd0e516a0c7",
   "metadata": {
    "collapsed": false,
    "jupyter": {
     "outputs_hidden": false
    }
   },
   "source": [
    "## Best ARIMA order for Market_Risk_Premium: (1, 0, 1)\n",
    "## Best ARIMA order for Size_Premium: (2, 0, 1)\n",
    "## Best ARIMA order for Value_Premium: (1, 0, 1)"
   ]
  },
  {
   "cell_type": "code",
   "execution_count": 10,
   "id": "a29e3f878027524e",
   "metadata": {
    "ExecuteTime": {
     "end_time": "2023-12-09T09:07:09.418752Z",
     "start_time": "2023-12-09T09:07:08.419277600Z"
    },
    "collapsed": false,
    "jupyter": {
     "outputs_hidden": false
    }
   },
   "outputs": [
    {
     "data": {
      "text/plain": [
       "(2023-01-01    0.000742\n",
       " 2023-01-02    0.000520\n",
       " 2023-01-03    0.000404\n",
       " 2023-01-04    0.000343\n",
       " 2023-01-05    0.000311\n",
       " Freq: D, Name: predicted_mean, dtype: float64,\n",
       " 2023-01-01    0.002162\n",
       " 2023-01-02    0.000778\n",
       " 2023-01-03    0.000721\n",
       " 2023-01-04    0.000276\n",
       " 2023-01-05    0.000295\n",
       " Freq: D, Name: predicted_mean, dtype: float64,\n",
       " 2023-01-01    0.000319\n",
       " 2023-01-02    0.000187\n",
       " 2023-01-03    0.000112\n",
       " 2023-01-04    0.000069\n",
       " 2023-01-05    0.000045\n",
       " Freq: D, Name: predicted_mean, dtype: float64)"
      ]
     },
     "execution_count": 10,
     "metadata": {},
     "output_type": "execute_result"
    }
   ],
   "source": [
    "# def fit_arima_and_forecast(time_series, order=(1, 0, 0), start_date='2023-01-01', end_date='2023-12-31'):\n",
    "#     model = ARIMA(time_series, order=order)\n",
    "#     model_fit = model.fit()\n",
    "#     forecast = model_fit.get_forecast(steps=365)  # Assuming 365 days in 2023\n",
    "#     forecast_index = pd.date_range(start_date, end_date, freq='D')\n",
    "#     forecast_series = pd.Series(forecast.predicted_mean, index=forecast_index)\n",
    "#     return forecast_series, model_fit\n",
    "\n",
    "def fit_arima_and_forecast(time_series, p, d, q, start_date='2023-01-01', end_date='2023-12-31'):\n",
    "    order = (p, d, q)  # Set the order of the ARIMA model with the provided parameters\n",
    "    model = ARIMA(time_series, order=order)\n",
    "    model_fit = model.fit()\n",
    "    forecast = model_fit.get_forecast(steps=365)  # Assuming 365 days in 2023\n",
    "    forecast_index = pd.date_range(start_date, end_date, freq='D')\n",
    "    forecast_series = pd.Series(forecast.predicted_mean, index=forecast_index)\n",
    "    return forecast_series, model_fit\n",
    "\n",
    "market_risk_premium_forecast, market_risk_premium_model = fit_arima_and_forecast(time_series_data['Market_Risk_Premium'], 1, 0, 1)\n",
    "size_premium_forecast, size_premium_model = fit_arima_and_forecast(time_series_data['Size_Premium'], 2, 0, 1)\n",
    "value_premium_forecast, value_premium_model = fit_arima_and_forecast(time_series_data['Value_Premium'], 1, 0, 1)\n",
    "\n",
    "market_risk_premium_forecast.head(), size_premium_forecast.head(), value_premium_forecast.head()"
   ]
  },
  {
   "cell_type": "code",
   "execution_count": 11,
   "id": "8a7be74c8fe83570",
   "metadata": {
    "ExecuteTime": {
     "end_time": "2023-12-09T09:07:09.472719400Z",
     "start_time": "2023-12-09T09:07:09.415429400Z"
    },
    "collapsed": false,
    "jupyter": {
     "outputs_hidden": false
    }
   },
   "outputs": [
    {
     "data": {
      "text/plain": [
       "((224, 20), (234, 2), (546, 10))"
      ]
     },
     "execution_count": 11,
     "metadata": {},
     "output_type": "execute_result"
    }
   ],
   "source": [
    "stock_data_2023_df = pd.read_csv('data/stock/sz002679.csv')\n",
    "bond_yield_2023_df = pd.read_csv('data/FE_BONDYIELDSD.csv')\n",
    "three_factors_2023_df = pd.read_csv('data/RESSET_THRFACDAT_DAILY_1.csv')\n",
    "\n",
    "stock_data_2023_df['date'] = pd.to_datetime(stock_data_2023_df['date'])\n",
    "bond_yield_2023_df['StatsDate'] = pd.to_datetime(bond_yield_2023_df['StatsDate'])\n",
    "three_factors_2023_df['日期_Date'] = pd.to_datetime(three_factors_2023_df['日期_Date'])\n",
    "\n",
    "stock_data_2023 = stock_data_2023_df[stock_data_2023_df['date'].dt.year == 2023]\n",
    "bond_yield_2023 = bond_yield_2023_df[bond_yield_2023_df['StatsDate'].dt.year == 2023]\n",
    "three_factors_2023 = three_factors_2023_df[three_factors_2023_df['日期_Date'].dt.year == 2023]\n",
    "\n",
    "(stock_data_2023.shape, bond_yield_2023.shape, three_factors_2023.shape)"
   ]
  },
  {
   "cell_type": "code",
   "execution_count": 12,
   "id": "e098a4db1cedb95d",
   "metadata": {
    "ExecuteTime": {
     "end_time": "2023-12-09T09:07:09.473725900Z",
     "start_time": "2023-12-09T09:07:09.447758500Z"
    },
    "collapsed": false,
    "jupyter": {
     "outputs_hidden": false
    }
   },
   "outputs": [
    {
     "data": {
      "text/html": [
       "<div>\n",
       "<style scoped>\n",
       "    .dataframe tbody tr th:only-of-type {\n",
       "        vertical-align: middle;\n",
       "    }\n",
       "\n",
       "    .dataframe tbody tr th {\n",
       "        vertical-align: top;\n",
       "    }\n",
       "\n",
       "    .dataframe thead th {\n",
       "        text-align: right;\n",
       "    }\n",
       "</style>\n",
       "<table border=\"1\" class=\"dataframe\">\n",
       "  <thead>\n",
       "    <tr style=\"text-align: right;\">\n",
       "      <th></th>\n",
       "      <th>code</th>\n",
       "      <th>date</th>\n",
       "      <th>open</th>\n",
       "      <th>high</th>\n",
       "      <th>low</th>\n",
       "      <th>close</th>\n",
       "      <th>change</th>\n",
       "      <th>volume</th>\n",
       "      <th>money</th>\n",
       "      <th>traded_market_value</th>\n",
       "      <th>...</th>\n",
       "      <th>PE_TTM</th>\n",
       "      <th>PS_TTM</th>\n",
       "      <th>PC_TTM</th>\n",
       "      <th>PB</th>\n",
       "      <th>adjust_price_f</th>\n",
       "      <th>daily_return</th>\n",
       "      <th>StatsDate</th>\n",
       "      <th>OneYearBondYield</th>\n",
       "      <th>daily_yield</th>\n",
       "      <th>excess_return</th>\n",
       "    </tr>\n",
       "  </thead>\n",
       "  <tbody>\n",
       "    <tr>\n",
       "      <th>0</th>\n",
       "      <td>sz002679</td>\n",
       "      <td>2023-01-03</td>\n",
       "      <td>10.50</td>\n",
       "      <td>11.54</td>\n",
       "      <td>10.43</td>\n",
       "      <td>11.54</td>\n",
       "      <td>0.100095</td>\n",
       "      <td>5555199.0</td>\n",
       "      <td>62355279.0</td>\n",
       "      <td>2.720624e+09</td>\n",
       "      <td>...</td>\n",
       "      <td>228.098114</td>\n",
       "      <td>15.615233</td>\n",
       "      <td>71.366172</td>\n",
       "      <td>3.788173</td>\n",
       "      <td>11.502774</td>\n",
       "      <td>NaN</td>\n",
       "      <td>2023-01-03</td>\n",
       "      <td>2.1452</td>\n",
       "      <td>0.005877</td>\n",
       "      <td>NaN</td>\n",
       "    </tr>\n",
       "    <tr>\n",
       "      <th>1</th>\n",
       "      <td>sz002679</td>\n",
       "      <td>2023-01-04</td>\n",
       "      <td>11.40</td>\n",
       "      <td>12.60</td>\n",
       "      <td>11.36</td>\n",
       "      <td>11.72</td>\n",
       "      <td>0.015598</td>\n",
       "      <td>14610841.0</td>\n",
       "      <td>173826124.0</td>\n",
       "      <td>2.763060e+09</td>\n",
       "      <td>...</td>\n",
       "      <td>231.655970</td>\n",
       "      <td>15.858798</td>\n",
       "      <td>72.479336</td>\n",
       "      <td>3.847261</td>\n",
       "      <td>11.682194</td>\n",
       "      <td>0.015598</td>\n",
       "      <td>2023-01-04</td>\n",
       "      <td>2.1228</td>\n",
       "      <td>0.005816</td>\n",
       "      <td>0.009782</td>\n",
       "    </tr>\n",
       "    <tr>\n",
       "      <th>2</th>\n",
       "      <td>sz002679</td>\n",
       "      <td>2023-01-05</td>\n",
       "      <td>11.74</td>\n",
       "      <td>11.98</td>\n",
       "      <td>11.71</td>\n",
       "      <td>11.84</td>\n",
       "      <td>0.010239</td>\n",
       "      <td>8655600.0</td>\n",
       "      <td>102361056.0</td>\n",
       "      <td>2.791351e+09</td>\n",
       "      <td>...</td>\n",
       "      <td>234.027874</td>\n",
       "      <td>16.021175</td>\n",
       "      <td>73.221445</td>\n",
       "      <td>3.886653</td>\n",
       "      <td>11.801806</td>\n",
       "      <td>0.010239</td>\n",
       "      <td>2023-01-05</td>\n",
       "      <td>2.1141</td>\n",
       "      <td>0.005792</td>\n",
       "      <td>0.004447</td>\n",
       "    </tr>\n",
       "    <tr>\n",
       "      <th>3</th>\n",
       "      <td>sz002679</td>\n",
       "      <td>2023-01-06</td>\n",
       "      <td>11.78</td>\n",
       "      <td>12.27</td>\n",
       "      <td>11.78</td>\n",
       "      <td>11.83</td>\n",
       "      <td>-0.000845</td>\n",
       "      <td>5982339.0</td>\n",
       "      <td>71693487.0</td>\n",
       "      <td>2.788993e+09</td>\n",
       "      <td>...</td>\n",
       "      <td>233.830215</td>\n",
       "      <td>16.007644</td>\n",
       "      <td>73.159602</td>\n",
       "      <td>3.883370</td>\n",
       "      <td>11.791839</td>\n",
       "      <td>-0.000845</td>\n",
       "      <td>2023-01-06</td>\n",
       "      <td>2.1352</td>\n",
       "      <td>0.005850</td>\n",
       "      <td>-0.006694</td>\n",
       "    </tr>\n",
       "    <tr>\n",
       "      <th>4</th>\n",
       "      <td>sz002679</td>\n",
       "      <td>2023-01-09</td>\n",
       "      <td>11.92</td>\n",
       "      <td>11.96</td>\n",
       "      <td>11.70</td>\n",
       "      <td>11.80</td>\n",
       "      <td>-0.002536</td>\n",
       "      <td>3570100.0</td>\n",
       "      <td>42226101.0</td>\n",
       "      <td>2.781921e+09</td>\n",
       "      <td>...</td>\n",
       "      <td>233.237239</td>\n",
       "      <td>15.967050</td>\n",
       "      <td>72.974075</td>\n",
       "      <td>3.873522</td>\n",
       "      <td>11.761935</td>\n",
       "      <td>-0.002536</td>\n",
       "      <td>2023-01-09</td>\n",
       "      <td>2.1423</td>\n",
       "      <td>0.005869</td>\n",
       "      <td>-0.008405</td>\n",
       "    </tr>\n",
       "  </tbody>\n",
       "</table>\n",
       "<p>5 rows × 25 columns</p>\n",
       "</div>"
      ],
      "text/plain": [
       "       code       date   open   high    low  close    change      volume  \\\n",
       "0  sz002679 2023-01-03  10.50  11.54  10.43  11.54  0.100095   5555199.0   \n",
       "1  sz002679 2023-01-04  11.40  12.60  11.36  11.72  0.015598  14610841.0   \n",
       "2  sz002679 2023-01-05  11.74  11.98  11.71  11.84  0.010239   8655600.0   \n",
       "3  sz002679 2023-01-06  11.78  12.27  11.78  11.83 -0.000845   5982339.0   \n",
       "4  sz002679 2023-01-09  11.92  11.96  11.70  11.80 -0.002536   3570100.0   \n",
       "\n",
       "         money  traded_market_value  ...      PE_TTM     PS_TTM     PC_TTM  \\\n",
       "0   62355279.0         2.720624e+09  ...  228.098114  15.615233  71.366172   \n",
       "1  173826124.0         2.763060e+09  ...  231.655970  15.858798  72.479336   \n",
       "2  102361056.0         2.791351e+09  ...  234.027874  16.021175  73.221445   \n",
       "3   71693487.0         2.788993e+09  ...  233.830215  16.007644  73.159602   \n",
       "4   42226101.0         2.781921e+09  ...  233.237239  15.967050  72.974075   \n",
       "\n",
       "         PB adjust_price_f  daily_return  StatsDate  OneYearBondYield  \\\n",
       "0  3.788173      11.502774           NaN 2023-01-03            2.1452   \n",
       "1  3.847261      11.682194      0.015598 2023-01-04            2.1228   \n",
       "2  3.886653      11.801806      0.010239 2023-01-05            2.1141   \n",
       "3  3.883370      11.791839     -0.000845 2023-01-06            2.1352   \n",
       "4  3.873522      11.761935     -0.002536 2023-01-09            2.1423   \n",
       "\n",
       "   daily_yield  excess_return  \n",
       "0     0.005877            NaN  \n",
       "1     0.005816       0.009782  \n",
       "2     0.005792       0.004447  \n",
       "3     0.005850      -0.006694  \n",
       "4     0.005869      -0.008405  \n",
       "\n",
       "[5 rows x 25 columns]"
      ]
     },
     "execution_count": 12,
     "metadata": {},
     "output_type": "execute_result"
    }
   ],
   "source": [
    "stock_data_2023['daily_return'] = stock_data_2023['close'].pct_change()\n",
    "\n",
    "bond_yield_2023['daily_yield'] = bond_yield_2023['OneYearBondYield'] / 365\n",
    "\n",
    "merged_data_2023 = stock_data_2023.merge(bond_yield_2023, left_on='date', right_on='StatsDate', how='left')\n",
    "\n",
    "merged_data_2023['excess_return'] = merged_data_2023['daily_return'] - merged_data_2023['daily_yield']\n",
    "\n",
    "merged_data_2023.head()"
   ]
  },
  {
   "cell_type": "code",
   "execution_count": 13,
   "id": "6b5a0d7eb9339092",
   "metadata": {
    "ExecuteTime": {
     "end_time": "2023-12-09T09:07:09.474724400Z",
     "start_time": "2023-12-09T09:07:09.462782300Z"
    },
    "collapsed": false,
    "jupyter": {
     "outputs_hidden": false
    }
   },
   "outputs": [
    {
     "data": {
      "text/html": [
       "<div>\n",
       "<style scoped>\n",
       "    .dataframe tbody tr th:only-of-type {\n",
       "        vertical-align: middle;\n",
       "    }\n",
       "\n",
       "    .dataframe tbody tr th {\n",
       "        vertical-align: top;\n",
       "    }\n",
       "\n",
       "    .dataframe thead th {\n",
       "        text-align: right;\n",
       "    }\n",
       "</style>\n",
       "<table border=\"1\" class=\"dataframe\">\n",
       "  <thead>\n",
       "    <tr style=\"text-align: right;\">\n",
       "      <th></th>\n",
       "      <th>date</th>\n",
       "      <th>excess_return</th>\n",
       "      <th>market_risk_premium</th>\n",
       "      <th>size_premium</th>\n",
       "      <th>value_premium</th>\n",
       "    </tr>\n",
       "  </thead>\n",
       "  <tbody>\n",
       "    <tr>\n",
       "      <th>3</th>\n",
       "      <td>2023-01-04</td>\n",
       "      <td>0.009782</td>\n",
       "      <td>0.0003</td>\n",
       "      <td>0.0071</td>\n",
       "      <td>0.0097</td>\n",
       "    </tr>\n",
       "    <tr>\n",
       "      <th>4</th>\n",
       "      <td>2023-01-04</td>\n",
       "      <td>0.009782</td>\n",
       "      <td>0.0003</td>\n",
       "      <td>0.0074</td>\n",
       "      <td>0.0093</td>\n",
       "    </tr>\n",
       "    <tr>\n",
       "      <th>5</th>\n",
       "      <td>2023-01-04</td>\n",
       "      <td>0.009782</td>\n",
       "      <td>0.0048</td>\n",
       "      <td>-0.0059</td>\n",
       "      <td>-0.0083</td>\n",
       "    </tr>\n",
       "    <tr>\n",
       "      <th>6</th>\n",
       "      <td>2023-01-05</td>\n",
       "      <td>0.004447</td>\n",
       "      <td>0.0164</td>\n",
       "      <td>-0.0130</td>\n",
       "      <td>-0.0136</td>\n",
       "    </tr>\n",
       "    <tr>\n",
       "      <th>7</th>\n",
       "      <td>2023-01-05</td>\n",
       "      <td>0.004447</td>\n",
       "      <td>0.0164</td>\n",
       "      <td>-0.0128</td>\n",
       "      <td>-0.0136</td>\n",
       "    </tr>\n",
       "  </tbody>\n",
       "</table>\n",
       "</div>"
      ],
      "text/plain": [
       "        date  excess_return  market_risk_premium  size_premium  value_premium\n",
       "3 2023-01-04       0.009782               0.0003        0.0071         0.0097\n",
       "4 2023-01-04       0.009782               0.0003        0.0074         0.0093\n",
       "5 2023-01-04       0.009782               0.0048       -0.0059        -0.0083\n",
       "6 2023-01-05       0.004447               0.0164       -0.0130        -0.0136\n",
       "7 2023-01-05       0.004447               0.0164       -0.0128        -0.0136"
      ]
     },
     "execution_count": 13,
     "metadata": {},
     "output_type": "execute_result"
    }
   ],
   "source": [
    "three_factors_2023_renamed = three_factors_2023.rename(columns={\n",
    "    '市场溢酬因子__流通市值加权_Rmrf_tmv': 'market_risk_premium',\n",
    "    '市值因子__流通市值加权_Smb_tmv': 'size_premium',\n",
    "    '账面市值比因子__流通市值加权_Hml_tmv': 'value_premium'\n",
    "})\n",
    "\n",
    "final_data_2023 = merged_data_2023.merge(three_factors_2023_renamed[['日期_Date', 'market_risk_premium', 'size_premium', 'value_premium']], left_on='date', right_on='日期_Date', how='left')\n",
    "\n",
    "final_data_2023 = final_data_2023[['date', 'excess_return', 'market_risk_premium', 'size_premium', 'value_premium']].dropna()\n",
    "\n",
    "final_data_2023.head()"
   ]
  },
  {
   "cell_type": "code",
   "execution_count": 14,
   "id": "c1345e271e64cdc5",
   "metadata": {
    "ExecuteTime": {
     "end_time": "2023-12-09T09:07:09.491488600Z",
     "start_time": "2023-12-09T09:07:09.477724600Z"
    },
    "collapsed": false,
    "jupyter": {
     "outputs_hidden": false
    }
   },
   "outputs": [
    {
     "data": {
      "text/plain": [
       "(5.363929907914631e-05, 1.99916546269622e-05, 3.948680467699964e-05)"
      ]
     },
     "execution_count": 14,
     "metadata": {},
     "output_type": "execute_result"
    }
   ],
   "source": [
    "stock_data_2023.loc[:, 'daily_return'] = stock_data_2023['close'].pct_change()\n",
    "bond_yield_2023.loc[:, 'daily_yield'] = bond_yield_2023['OneYearBondYield'] / 365\n",
    "\n",
    "final_data_2023_cleaned = final_data_2023.drop_duplicates(subset='date', keep='last')\n",
    "\n",
    "from sklearn.metrics import mean_squared_error\n",
    "\n",
    "mse_market_risk_premium = mean_squared_error(\n",
    "    final_data_2023_cleaned['market_risk_premium'], market_risk_premium_forecast.reindex(final_data_2023_cleaned['date'])\n",
    ")\n",
    "mse_size_premium = mean_squared_error(\n",
    "    final_data_2023_cleaned['size_premium'], size_premium_forecast.reindex(final_data_2023_cleaned['date'])\n",
    ")\n",
    "mse_value_premium = mean_squared_error(\n",
    "    final_data_2023_cleaned['value_premium'], value_premium_forecast.reindex(final_data_2023_cleaned['date'])\n",
    ")\n",
    "\n",
    "(mse_market_risk_premium, mse_size_premium, mse_value_premium)"
   ]
  },
  {
   "cell_type": "code",
   "execution_count": 20,
   "id": "a814bd0c5b7ba390",
   "metadata": {
    "ExecuteTime": {
     "end_time": "2023-12-09T09:16:35.595945100Z",
     "start_time": "2023-12-09T09:16:35.565893300Z"
    },
    "collapsed": false,
    "jupyter": {
     "outputs_hidden": false
    }
   },
   "outputs": [
    {
     "data": {
      "text/plain": [
       "(0.0005275260198122915, -0.05768458494424222)"
      ]
     },
     "execution_count": 20,
     "metadata": {},
     "output_type": "execute_result"
    }
   ],
   "source": [
    "beta_coefficients = {\n",
    "    'market_risk_premium_beta': beta_coefficients_dict['Market_Risk_Premium_Beta'],\n",
    "    'size_premium_beta': beta_coefficients_dict['Size_Premium_Beta'],\n",
    "    'value_premium_beta': beta_coefficients_dict['Value_Premium_Beta']\n",
    "}\n",
    "\n",
    "final_data_2023_cleaned['predicted_excess_return'] = (\n",
    "    beta_coefficients['market_risk_premium_beta'] * final_data_2023_cleaned['market_risk_premium'] +\n",
    "    beta_coefficients['size_premium_beta'] * final_data_2023_cleaned['size_premium'] +\n",
    "    beta_coefficients['value_premium_beta'] * final_data_2023_cleaned['value_premium']\n",
    ")\n",
    "\n",
    "mse_excess_return = mean_squared_error(\n",
    "    final_data_2023_cleaned['excess_return'], final_data_2023_cleaned['predicted_excess_return']\n",
    ")\n",
    "\n",
    "r2 = r2_score(final_data_2023_cleaned['excess_return'], final_data_2023_cleaned['predicted_excess_return'])\n",
    "\n",
    "mse_excess_return, r2"
   ]
  },
  {
   "cell_type": "code",
   "execution_count": 16,
   "id": "bf440e6eb7a66b12",
   "metadata": {
    "ExecuteTime": {
     "end_time": "2023-12-09T09:07:09.688495400Z",
     "start_time": "2023-12-09T09:07:09.494493700Z"
    },
    "collapsed": false,
    "jupyter": {
     "outputs_hidden": false
    }
   },
   "outputs": [
    {
     "data": {
      "image/png": "[encoded data removed]",
      "text/plain": [
       "<Figure size 1400x700 with 1 Axes>"
      ]
     },
     "metadata": {},
     "output_type": "display_data"
    }
   ],
   "source": [
    "import matplotlib.pyplot as plt\n",
    "\n",
    "initial_investment = 100\n",
    "\n",
    "final_data_2023_cleaned['cumulative_actual_return'] = (1 + final_data_2023_cleaned['excess_return']).cumprod() * initial_investment\n",
    "final_data_2023_cleaned['cumulative_predicted_return'] = (1 + final_data_2023_cleaned['predicted_excess_return']).cumprod() * initial_investment\n",
    "\n",
    "plt.figure(figsize=(14, 7))\n",
    "plt.plot(final_data_2023_cleaned['date'], final_data_2023_cleaned['cumulative_actual_return'], label='Actual Cumulative Return')\n",
    "plt.plot(final_data_2023_cleaned['date'], final_data_2023_cleaned['cumulative_predicted_return'], label='Predicted Cumulative Return', linestyle='--')\n",
    "plt.title('Cumulative Return of 100 Units Investment in 2023')\n",
    "plt.xlabel('Date')\n",
    "plt.ylabel('Cumulative Return (in units)')\n",
    "plt.legend()\n",
    "plt.grid(True)\n",
    "plt.show()"
   ]
  },
  {
   "cell_type": "code",
   "execution_count": 17,
   "id": "ba86ca4bf02dab19",
   "metadata": {
    "ExecuteTime": {
     "end_time": "2023-12-09T09:09:42.336132400Z",
     "start_time": "2023-12-09T09:09:42.175799Z"
    },
    "collapsed": false,
    "jupyter": {
     "outputs_hidden": false
    }
   },
   "outputs": [
    {
     "data": {
      "image/png": "[encoded data removed]",
      "text/plain": [
       "<Figure size 1400x700 with 1 Axes>"
      ]
     },
     "metadata": {},
     "output_type": "display_data"
    }
   ],
   "source": [
    "plt.figure(figsize=(14, 7))\n",
    "plt.plot(final_data_2023_cleaned['date'], final_data_2023_cleaned['excess_return'], label='Actual Excess Return')\n",
    "plt.plot(final_data_2023_cleaned['date'], final_data_2023_cleaned['predicted_excess_return'], label='Predicted Excess Return', linestyle='--')\n",
    "plt.title('Excess Return in 2023')\n",
    "plt.xlabel('Date')\n",
    "plt.ylabel('Excess Return')\n",
    "plt.legend()\n",
    "plt.grid(True)\n",
    "plt.show()\n"
   ]
  }
 ],
 "metadata": {
  "kernelspec": {
   "display_name": "Python 3 (ipykernel)",
   "language": "python",
   "name": "python3"
  },
  "language_info": {
   "codemirror_mode": {
    "name": "ipython",
    "version": 3
   },
   "file_extension": ".py",
   "mimetype": "text/x-python",
   "name": "python",
   "nbconvert_exporter": "python",
   "pygments_lexer": "ipython3",
   "version": "3.11.5"
  }
 },
 "nbformat": 4,
 "nbformat_minor": 5
}
